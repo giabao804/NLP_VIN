{
 "cells": [
  {
   "cell_type": "markdown",
   "metadata": {},
   "source": [
    "### Mô hình ngôn ngữ và ứng dụng cho kiểm lỗi chính tả\n",
    "\n",
    "Yêu cầu: \n",
    "a)\tXây dựng mô hình ngôn ngữ như là bài toán phân loại sử dụng CNN và LSTM.\n",
    "b)\tLàm sao giải quyết vấn đề sparse data (dữ liệu thưa) trong mô hình này? \n"
   ]
  },
  {
   "cell_type": "markdown",
   "metadata": {},
   "source": [
    "#### Đọc file input lấy max = 1000"
   ]
  },
  {
   "cell_type": "code",
   "execution_count": 25,
   "metadata": {},
   "outputs": [
    {
     "name": "stdout",
     "output_type": "stream",
     "text": [
      "1000\n",
      "[\"Here are two reasons companies fail: they only do more of the same, or they only do what's new\", 'To me the real, real solution to quality growth is figuring out the balance between two activities: exploration and exploitation', 'Both are necessary, but it can be too much of a good thing', 'Consider Facit', \"I'm actually old enough to remember them\"]\n"
     ]
    }
   ],
   "source": [
    "# đọc file\n",
    "filename='tedtalk.txt'\n",
    "with open(filename, 'r', encoding='utf-8')  as file:\n",
    "    lines=file.readlines()\n",
    "\n",
    "max_lines = 1000   \n",
    "lines=lines[:max_lines]\n",
    "# drop \\n:\n",
    "lines=[line.strip() for line in lines]\n",
    "print(len(lines))\n",
    "print(lines[:5])"
   ]
  },
  {
   "cell_type": "markdown",
   "metadata": {},
   "source": [
    "#### tokenize, thêm ký hiệu '\\<s\\>' đầu câu, '\\</s\\>' cuối câu"
   ]
  },
  {
   "cell_type": "code",
   "execution_count": 26,
   "metadata": {},
   "outputs": [
    {
     "name": "stdout",
     "output_type": "stream",
     "text": [
      "all_tokens_count: 19965\n",
      "sentences: 1000\n",
      "[['<s>', 'Here', 'are', 'two', 'reasons', 'companies', 'fail', ':', 'they', 'only', 'do', 'more', 'of', 'the', 'same', ',', 'or', 'they', 'only', 'do', 'what', \"'s\", 'new', '</s>'], ['<s>', 'To', 'me', 'the', 'real', ',', 'real', 'solution', 'to', 'quality', 'growth', 'is', 'figuring', 'out', 'the', 'balance', 'between', 'two', 'activities', ':', 'exploration', 'and', 'exploitation', '</s>'], ['<s>', 'Both', 'are', 'necessary', ',', 'but', 'it', 'can', 'be', 'too', 'much', 'of', 'a', 'good', 'thing', '</s>'], ['<s>', 'Consider', 'Facit', '</s>'], ['<s>', 'I', \"'m\", 'actually', 'old', 'enough', 'to', 'remember', 'them', '</s>']]\n"
     ]
    }
   ],
   "source": [
    "# add <s> and </s> to each line\n",
    "import nltk\n",
    "from nltk.tokenize import word_tokenize\n",
    "sentences=[]\n",
    "all_tokens_count=0\n",
    "for line in lines:\n",
    "    tokens=word_tokenize(line)\n",
    "    tokens.insert(0,'<s>')\n",
    "    tokens.append('</s>')\n",
    "    sentences.append(tokens)\n",
    "    all_tokens_count+=len(tokens)\n",
    "\n",
    "print('all_tokens_count:', all_tokens_count)\n",
    "print('sentences:', len(sentences))\n",
    "print(sentences[:5])"
   ]
  },
  {
   "cell_type": "markdown",
   "metadata": {},
   "source": [
    "#### Tạo dữ liệu training w(i-k)...w(i-1) dự đoán w(i)"
   ]
  },
  {
   "cell_type": "code",
   "execution_count": 27,
   "metadata": {},
   "outputs": [
    {
     "name": "stdout",
     "output_type": "stream",
     "text": [
      "17965\n",
      "('Here', '<s>', 'are')\n",
      "('are', 'Here', 'two')\n",
      "('two', 'are', 'reasons')\n",
      "('reasons', 'two', 'companies')\n",
      "('companies', 'reasons', 'fail')\n",
      "('fail', 'companies', ':')\n",
      "(':', 'fail', 'they')\n",
      "('they', ':', 'only')\n",
      "('only', 'they', 'do')\n",
      "('do', 'only', 'more')\n",
      "('more', 'do', 'of')\n",
      "('of', 'more', 'the')\n",
      "('the', 'of', 'same')\n",
      "('same', 'the', ',')\n",
      "(',', 'same', 'or')\n",
      "('or', ',', 'they')\n",
      "('they', 'or', 'only')\n",
      "('only', 'they', 'do')\n",
      "('do', 'only', 'what')\n",
      "('what', 'do', \"'s\")\n",
      "(\"'s\", 'what', 'new')\n",
      "('new', \"'s\", '</s>')\n"
     ]
    }
   ],
   "source": [
    "\n",
    "import random \n",
    "def get_instances(sent):\n",
    "    samples=[]\n",
    "    for i in range(1, len(sent)-1):\n",
    "        samples.append((sent[i], sent[i-1], sent[i+1]))\n",
    "    return samples\n",
    "\n",
    "data=[]\n",
    "for sent in sentences:\n",
    "    data.extend(get_instances(sent))\n",
    "print(len(data))\n",
    "\n",
    "# test thử hàm get_instances\n",
    "\n",
    "samples = get_instances(sentences[0])\n",
    "for instance in samples:\n",
    "    print(instance)"
   ]
  },
  {
   "cell_type": "markdown",
   "metadata": {},
   "source": [
    "#### hiển thị bản đồ histogram của data"
   ]
  },
  {
   "cell_type": "code",
   "execution_count": 28,
   "metadata": {},
   "outputs": [
    {
     "data": {
      "image/png": "[encoded data removed]",
      "text/plain": [
       "<Figure size 2000x1000 with 1 Axes>"
      ]
     },
     "metadata": {},
     "output_type": "display_data"
    }
   ],
   "source": [
    "# bản đồ histogram của data \n",
    "import pandas as pd\n",
    "import matplotlib.pyplot as plt\n",
    "alllength = [len(x) for x in data]\n",
    "plt.rcParams['figure.figsize'] = (20, 10)\n",
    "length_df = pd.DataFrame({'Dialog':alllength})\n",
    "length_df.hist(bins=50)\n",
    "plt.show()"
   ]
  },
  {
   "cell_type": "code",
   "execution_count": 45,
   "metadata": {},
   "outputs": [],
   "source": [
    "import numpy as np\n",
    "from tensorflow.keras.preprocessing.text import Tokenizer \n",
    "from tensorflow.keras.preprocessing.sequence import pad_sequences\n",
    "from tensorflow import keras\n",
    "from sklearn.metrics import confusion_matrix,f1_score,classification_report"
   ]
  },
  {
   "cell_type": "code",
   "execution_count": 46,
   "metadata": {},
   "outputs": [
    {
     "name": "stdout",
     "output_type": "stream",
     "text": [
      "vocab size: 3097\n"
     ]
    }
   ],
   "source": [
    "# lấy max của độ dài để dự đoán từ tiếp theo\n",
    "max_sequence_len=20\n",
    "\n",
    "data1 = [' '.join(x) for x in data]\n",
    "\n",
    "tokenizer = Tokenizer(filters='') \n",
    "tokenizer.fit_on_texts(data1)\n",
    "#print(tokenizer.word_index)\n",
    "vocab_size = len(tokenizer.word_index) + 1\n",
    "print('vocab size:',vocab_size)"
   ]
  },
  {
   "cell_type": "code",
   "execution_count": 57,
   "metadata": {},
   "outputs": [
    {
     "name": "stdout",
     "output_type": "stream",
     "text": [
      "[[  0   0   0   0   0   0   0   0   0   0   0   0   0   0   0   0   0  93\n",
      "    7  24]\n",
      " [  0   0   0   0   0   0   0   0   0   0   0   0   0   0   0   0   0  24\n",
      "   93 120]\n",
      " [  0   0   0   0   0   0   0   0   0   0   0   0   0   0   0   0   0 120\n",
      "   24 616]]\n"
     ]
    }
   ],
   "source": [
    "# viết code chuẩn hoá input\n",
    "data_sequence = tokenizer.texts_to_sequences(data1)\n",
    "y_data= [x[0] for x in data_sequence]\n",
    "\n",
    "X_data = pad_sequences(data_sequence, maxlen=max_sequence_len, padding='pre')\n",
    "#END YOUR CODE\n",
    "\n",
    "print(X_data[:3])"
   ]
  },
  {
   "cell_type": "code",
   "execution_count": 48,
   "metadata": {},
   "outputs": [
    {
     "name": "stdout",
     "output_type": "stream",
     "text": [
      "[[  0   0   0   0   0   0   0   0   0   0   0   0   0   0   0   0   0  93\n",
      "    7  24]\n",
      " [  0   0   0   0   0   0   0   0   0   0   0   0   0   0   0   0   0  24\n",
      "   93 120]\n",
      " [  0   0   0   0   0   0   0   0   0   0   0   0   0   0   0   0   0 120\n",
      "   24 616]]\n",
      "[93, 24, 120]\n"
     ]
    }
   ],
   "source": [
    "print(X_data[:3])\n",
    "print(y_data[:3])"
   ]
  },
  {
   "cell_type": "code",
   "execution_count": 58,
   "metadata": {},
   "outputs": [
    {
     "name": "stdout",
     "output_type": "stream",
     "text": [
      "(17965, 3097)\n",
      "[0. 0. 0. ... 0. 0. 0.]\n"
     ]
    }
   ],
   "source": [
    "y_data = keras.utils.to_categorical(y_data,num_classes=vocab_size)\n",
    "print(y_data.shape)\n",
    "print(y_data[0])"
   ]
  },
  {
   "cell_type": "code",
   "execution_count": 50,
   "metadata": {},
   "outputs": [
    {
     "name": "stdout",
     "output_type": "stream",
     "text": [
      "(17965, 20)\n",
      "(17965, 3097)\n"
     ]
    }
   ],
   "source": [
    "print(X_data.shape)\n",
    "print(y_data.shape)"
   ]
  },
  {
   "cell_type": "code",
   "execution_count": 59,
   "metadata": {},
   "outputs": [
    {
     "name": "stdout",
     "output_type": "stream",
     "text": [
      "(None, 20)\n",
      "(None, 20, 200)\n"
     ]
    }
   ],
   "source": [
    "def get_params():\n",
    "    return {'max_seq_len': max_sequence_len, 'vocab_size':vocab_size }\n",
    "\n",
    "params = get_params()\n",
    "\n",
    "inputs = keras.layers.Input(shape=(params['max_seq_len'],))\n",
    "embedding = keras.layers.Embedding(params['vocab_size'], 200, input_length=params['max_seq_len'])(inputs)\n",
    "print(inputs.shape)\n",
    "print(embedding.shape)"
   ]
  },
  {
   "cell_type": "code",
   "execution_count": 60,
   "metadata": {},
   "outputs": [],
   "source": [
    "# building CNN model\n",
    "\n",
    "conv1 = keras.layers.Conv1D(128, 3, activation='relu')(embedding)\n",
    "pool1 = keras.layers.MaxPooling1D(pool_size=2)(conv1)\n",
    "conv2 = keras.layers.Conv1D(64, 3, activation='relu')(pool1)\n",
    "pool2 = keras.layers.MaxPooling1D(pool_size=2)(conv2)\n",
    "flat = keras.layers.Flatten()(pool2)\n",
    "dense = keras.layers.Dense(128, activation='relu')(flat)\n",
    "output = keras.layers.Dense(params['vocab_size'], activation='softmax')(dense)\n",
    "\n",
    "model = keras.models.Model(inputs=inputs, outputs=output)"
   ]
  },
  {
   "cell_type": "code",
   "execution_count": 53,
   "metadata": {},
   "outputs": [
    {
     "name": "stdout",
     "output_type": "stream",
     "text": [
      "Model: \"model_1\"\n",
      "_________________________________________________________________\n",
      " Layer (type)                Output Shape              Param #   \n",
      "=================================================================\n",
      " input_2 (InputLayer)        [(None, 20)]              0         \n",
      "                                                                 \n",
      " embedding_1 (Embedding)     (None, 20, 200)           619400    \n",
      "                                                                 \n",
      " conv1d_2 (Conv1D)           (None, 18, 128)           76928     \n",
      "                                                                 \n",
      " max_pooling1d_2 (MaxPooling  (None, 9, 128)           0         \n",
      " 1D)                                                             \n",
      "                                                                 \n",
      " conv1d_3 (Conv1D)           (None, 7, 64)             24640     \n",
      "                                                                 \n",
      " max_pooling1d_3 (MaxPooling  (None, 3, 64)            0         \n",
      " 1D)                                                             \n",
      "                                                                 \n",
      " flatten_1 (Flatten)         (None, 192)               0         \n",
      "                                                                 \n",
      " dense_2 (Dense)             (None, 128)               24704     \n",
      "                                                                 \n",
      " dense_3 (Dense)             (None, 3097)              399513    \n",
      "                                                                 \n",
      "=================================================================\n",
      "Total params: 1,145,185\n",
      "Trainable params: 1,145,185\n",
      "Non-trainable params: 0\n",
      "_________________________________________________________________\n"
     ]
    }
   ],
   "source": [
    "model.compile(loss='sparse_categorical_crossentropy', optimizer='adam',metrics=['accuracy'])\n",
    "model.summary()"
   ]
  },
  {
   "cell_type": "code",
   "execution_count": 54,
   "metadata": {},
   "outputs": [
    {
     "data": {
      "text/plain": [
       "(numpy.ndarray, 17965)"
      ]
     },
     "execution_count": 54,
     "metadata": {},
     "output_type": "execute_result"
    }
   ],
   "source": [
    "type(y_data),len(y_data)"
   ]
  },
  {
   "cell_type": "code",
   "execution_count": 62,
   "metadata": {},
   "outputs": [
    {
     "name": "stdout",
     "output_type": "stream",
     "text": [
      "X_data shape: (17965, 20)\n",
      "y_data shape: (17965, 3097)\n",
      "Epoch 1/3\n",
      "180/180 [==============================] - 4s 17ms/step - loss: 6.0292 - accuracy: 0.0622\n",
      "Epoch 2/3\n",
      "180/180 [==============================] - 3s 16ms/step - loss: 4.1108 - accuracy: 0.3103\n",
      "Epoch 3/3\n",
      "180/180 [==============================] - 3s 17ms/step - loss: 2.9609 - accuracy: 0.5239\n"
     ]
    },
    {
     "data": {
      "text/plain": [
       "<keras.callbacks.History at 0x1a23a9c0590>"
      ]
     },
     "execution_count": 62,
     "metadata": {},
     "output_type": "execute_result"
    }
   ],
   "source": [
    "# Ensure y_data is a numpy array\n",
    "y_data = np.array(y_data)\n",
    "\n",
    "\n",
    "# Print shapes to verify\n",
    "print(\"X_data shape:\", X_data.shape)\n",
    "print(\"y_data shape:\", y_data.shape)\n",
    "\n",
    "# Fit the model\n",
    "model.compile(loss='categorical_crossentropy', optimizer='adam', metrics=['accuracy'])\n",
    "model.fit(X_data, y_data, batch_size=100, epochs=3)"
   ]
  },
  {
   "cell_type": "code",
   "execution_count": 63,
   "metadata": {},
   "outputs": [
    {
     "name": "stdout",
     "output_type": "stream",
     "text": [
      "Model: \"model_3\"\n",
      "_________________________________________________________________\n",
      " Layer (type)                Output Shape              Param #   \n",
      "=================================================================\n",
      " input_4 (InputLayer)        [(None, 20)]              0         \n",
      "                                                                 \n",
      " embedding_3 (Embedding)     (None, 20, 200)           619400    \n",
      "                                                                 \n",
      " lstm (LSTM)                 (None, 20, 128)           168448    \n",
      "                                                                 \n",
      " lstm_1 (LSTM)               (None, 64)                49408     \n",
      "                                                                 \n",
      " dense_6 (Dense)             (None, 3097)              201305    \n",
      "                                                                 \n",
      "=================================================================\n",
      "Total params: 1,038,561\n",
      "Trainable params: 1,038,561\n",
      "Non-trainable params: 0\n",
      "_________________________________________________________________\n"
     ]
    }
   ],
   "source": [
    "inputs2 = keras.layers.Input(shape=(params['max_seq_len'],))\n",
    "embedding2 = keras.layers.Embedding(params['vocab_size'], 200, input_length=params['max_seq_len'])(inputs2)\n",
    "\n",
    "#BEGIN YOUR CODE\n",
    "# building RNN model\n",
    "lstm1 = keras.layers.LSTM(128, return_sequences=True)(embedding2)\n",
    "lstm2 = keras.layers.LSTM(64)(lstm1)\n",
    "dense2 = keras.layers.Dense(params['vocab_size'], activation='softmax')(lstm2)\n",
    "\n",
    "#END YOUR CODE\n",
    "\n",
    "model2 = keras.Model(inputs=inputs2, outputs=dense2)\n",
    "model2.compile(loss='sparse_categorical_crossentropy', optimizer='adam',metrics=['accuracy'])\n",
    "model2.summary()"
   ]
  },
  {
   "cell_type": "code",
   "execution_count": 65,
   "metadata": {},
   "outputs": [
    {
     "name": "stdout",
     "output_type": "stream",
     "text": [
      "Epoch 1/3\n",
      "180/180 [==============================] - 9s 39ms/step - loss: 6.6445 - accuracy: 0.0572\n",
      "Epoch 2/3\n",
      "180/180 [==============================] - 7s 39ms/step - loss: 6.2385 - accuracy: 0.0577\n",
      "Epoch 3/3\n",
      "180/180 [==============================] - 7s 39ms/step - loss: 5.8806 - accuracy: 0.0577\n"
     ]
    },
    {
     "data": {
      "text/plain": [
       "<keras.callbacks.History at 0x1a210898590>"
      ]
     },
     "execution_count": 65,
     "metadata": {},
     "output_type": "execute_result"
    }
   ],
   "source": [
    "model2.compile(loss='categorical_crossentropy', optimizer='adam', metrics=['accuracy'])\n",
    "model2.fit(X_data,y_data,batch_size=100, epochs=3)   "
   ]
  }
 ],
 "metadata": {
  "kernelspec": {
   "display_name": "Python 3",
   "language": "python",
   "name": "python3"
  },
  "language_info": {
   "codemirror_mode": {
    "name": "ipython",
    "version": 3
   },
   "file_extension": ".py",
   "mimetype": "text/x-python",
   "name": "python",
   "nbconvert_exporter": "python",
   "pygments_lexer": "ipython3",
   "version": "3.11.2"
  }
 },
 "nbformat": 4,
 "nbformat_minor": 4
}
