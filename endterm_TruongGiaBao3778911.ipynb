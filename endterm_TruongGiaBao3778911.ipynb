{
  "cells": [
    {
      "cell_type": "markdown",
      "metadata": {
        "id": "oCVH2lWRUf0e"
      },
      "source": [
        "SST-5 (Stanford Sentiment Treebank 5-class) là một tập dữ liệu phổ biến trong lĩnh vực xử lý ngôn ngữ tự nhiên (NLP), dùng để phân loại cảm xúc của câu văn dựa trên mức độ cảm xúc. Đây là phiên bản mở rộng của Stanford Sentiment Treebank, nơi mà dữ liệu được dán nhãn thành 5 cấp độ cảm xúc:\n",
        "\n",
        "Rất tiêu cực (Very Negative)\n",
        "Tiêu cực (Negative)\n",
        "Trung lập (Neutral)\n",
        "Tích cực (Positive)\n",
        "Rất tích cực (Very Positive)\n",
        "Dữ liệu trong SST-5 bao gồm các câu tiếng Anh đã được gán nhãn với một trong năm mức độ cảm xúc này, giúp các mô hình học máy học cách phân loại cảm xúc phức tạp hơn so với chỉ có hai lớp (tích cực và tiêu cực).\n",
        "\n",
        "Nội dung của bài thực hành này là kết hợp các kiến thức đã được học trong khóa NLP để xây dựng mô hình phân loại đa nhãn cho bài toán này.\n",
        "\n",
        "Mục tiêu chính là sử dụng CNN trong kiến trúc chính, ngoài ra những phần khác có thể cấu hình theo ý tưởng cá nhân để nâng cao hiệu quả mô hình (bao gồm lựa chọn thư viện, phương pháp tiền xử lý, lựa chọn biểu diễn nhúng huấn luyện trước....)\n",
        "\n",
        "Kiến trúc của notebook này được phân loại thành  phần chính như sau:\n",
        "- Import thư viện và data\n",
        "- Tiền xử lý dữ liệu\n",
        "- Embedding text to vector\n",
        "- Build model\n",
        "- Evaluate model\n"
      ]
    },
    {
      "cell_type": "code",
      "execution_count": 1,
      "metadata": {
        "colab": {
          "base_uri": "https://localhost:8080/"
        },
        "id": "4R4uLlNfYJVE",
        "outputId": "163f1dff-d95e-4443-be2d-294508bdff58"
      },
      "outputs": [],
      "source": [
        "# # train set\n",
        "# !gdown 1pd5HE6KdE4CjdYarUpHqM2da75LxjigB\n",
        "# # dev set\n",
        "# !gdown 1LfvEzKBlr3tVzG6yFNTcxmB3rNVVRzm1\n",
        "# # test set\n",
        "# !gdown 1Uk8cTWvnmPrxMIu5h6IIA7qqqcO36Von"
      ]
    },
    {
      "cell_type": "code",
      "execution_count": 2,
      "metadata": {
        "colab": {
          "base_uri": "https://localhost:8080/"
        },
        "id": "CUPPt7vLT-uo",
        "outputId": "e902686b-806b-4e69-e9d6-41c430c89c4b"
      },
      "outputs": [],
      "source": [
        "# from google.colab import drive\n",
        "# drive.mount('/content/drive')"
      ]
    },
    {
      "cell_type": "code",
      "execution_count": 3,
      "metadata": {
        "colab": {
          "base_uri": "https://localhost:8080/"
        },
        "id": "GKOkqu2Tl5I0",
        "outputId": "4bbf8190-8ff7-4e75-c0e4-da4867ae9c78"
      },
      "outputs": [],
      "source": [
        "# !pip install nltk\n",
        "# !pip install pandas\n"
      ]
    },
    {
      "cell_type": "code",
      "execution_count": 4,
      "metadata": {
        "id": "umo5f6bUl8aJ"
      },
      "outputs": [
        {
          "name": "stderr",
          "output_type": "stream",
          "text": [
            "2024-10-28 16:21:58.424603: E external/local_xla/xla/stream_executor/cuda/cuda_fft.cc:485] Unable to register cuFFT factory: Attempting to register factory for plugin cuFFT when one has already been registered\n",
            "2024-10-28 16:21:58.513026: E external/local_xla/xla/stream_executor/cuda/cuda_dnn.cc:8454] Unable to register cuDNN factory: Attempting to register factory for plugin cuDNN when one has already been registered\n",
            "2024-10-28 16:21:58.543339: E external/local_xla/xla/stream_executor/cuda/cuda_blas.cc:1452] Unable to register cuBLAS factory: Attempting to register factory for plugin cuBLAS when one has already been registered\n",
            "2024-10-28 16:21:58.753312: I tensorflow/core/platform/cpu_feature_guard.cc:210] This TensorFlow binary is optimized to use available CPU instructions in performance-critical operations.\n",
            "To enable the following instructions: AVX2 FMA, in other operations, rebuild TensorFlow with the appropriate compiler flags.\n",
            "2024-10-28 16:22:00.276035: W tensorflow/compiler/tf2tensorrt/utils/py_utils.cc:38] TF-TRT Warning: Could not find TensorRT\n",
            "[nltk_data] Downloading package punkt to /home/giabao/nltk_data...\n",
            "[nltk_data]   Package punkt is already up-to-date!\n",
            "[nltk_data] Downloading package stopwords to /home/giabao/nltk_data...\n",
            "[nltk_data]   Package stopwords is already up-to-date!\n",
            "[nltk_data] Downloading package wordnet to /home/giabao/nltk_data...\n",
            "[nltk_data]   Package wordnet is already up-to-date!\n"
          ]
        },
        {
          "data": {
            "text/plain": [
              "True"
            ]
          },
          "execution_count": 4,
          "metadata": {},
          "output_type": "execute_result"
        }
      ],
      "source": [
        "import re\n",
        "import nltk\n",
        "from nltk.corpus import stopwords\n",
        "from nltk.tokenize import word_tokenize\n",
        "from nltk.stem import PorterStemmer, WordNetLemmatizer\n",
        "\n",
        "import numpy as np\n",
        "import pandas as pd\n",
        "from sklearn.feature_extraction.text import TfidfVectorizer\n",
        "from sklearn.model_selection import train_test_split\n",
        "from tensorflow.keras.models import Sequential\n",
        "from tensorflow.keras.layers import Dense, Conv1D, MaxPooling1D, Flatten, Embedding, Dropout\n",
        "from tensorflow.keras.optimizers import Adam\n",
        "\n",
        "# Tải từ điển stopwords và bộ tokenization của NLTK\n",
        "nltk.download('punkt')\n",
        "nltk.download('stopwords')\n",
        "nltk.download('wordnet')\n"
      ]
    },
    {
      "cell_type": "code",
      "execution_count": 5,
      "metadata": {
        "id": "rBm99cvtTKhk"
      },
      "outputs": [],
      "source": [
        "import json\n",
        "#import dữ liệu\n",
        "######  YOUR CODE HERE ######\n",
        "# Đọc tệp train.jsonl\n",
        "with open('train.jsonl', 'r') as f:\n",
        "    train_data = [json.loads(line) for line in f]\n",
        "\n",
        "# Đọc tệp dev.jsonl\n",
        "with open('dev.jsonl', 'r') as f:\n",
        "    dev_data = [json.loads(line) for line in f]\n",
        "\n",
        "# Đọc tệp test.jsonl\n",
        "with open('test.jsonl', 'r') as f:\n",
        "    test_data = [json.loads(line) for line in f]\n",
        "\n",
        "\n",
        "# Tạo DataFrame từ danh sách data\n",
        "df_train = pd.DataFrame(train_data)\n",
        "df_dev = pd.DataFrame(dev_data)\n",
        "df_test = pd.DataFrame(test_data)\n",
        "\n",
        "######  YOUR CODE HERE ######\n"
      ]
    },
    {
      "cell_type": "code",
      "execution_count": 6,
      "metadata": {
        "id": "fRrOP6Eiaf2e"
      },
      "outputs": [
        {
          "data": {
            "text/html": [
              "<div>\n",
              "<style scoped>\n",
              "    .dataframe tbody tr th:only-of-type {\n",
              "        vertical-align: middle;\n",
              "    }\n",
              "\n",
              "    .dataframe tbody tr th {\n",
              "        vertical-align: top;\n",
              "    }\n",
              "\n",
              "    .dataframe thead th {\n",
              "        text-align: right;\n",
              "    }\n",
              "</style>\n",
              "<table border=\"1\" class=\"dataframe\">\n",
              "  <thead>\n",
              "    <tr style=\"text-align: right;\">\n",
              "      <th></th>\n",
              "      <th>text</th>\n",
              "      <th>label</th>\n",
              "      <th>label_text</th>\n",
              "    </tr>\n",
              "  </thead>\n",
              "  <tbody>\n",
              "    <tr>\n",
              "      <th>0</th>\n",
              "      <td>a stirring , funny and finally transporting re...</td>\n",
              "      <td>4</td>\n",
              "      <td>very positive</td>\n",
              "    </tr>\n",
              "    <tr>\n",
              "      <th>1</th>\n",
              "      <td>apparently reassembled from the cutting-room f...</td>\n",
              "      <td>1</td>\n",
              "      <td>negative</td>\n",
              "    </tr>\n",
              "    <tr>\n",
              "      <th>2</th>\n",
              "      <td>they presume their audience wo n't sit still f...</td>\n",
              "      <td>1</td>\n",
              "      <td>negative</td>\n",
              "    </tr>\n",
              "    <tr>\n",
              "      <th>3</th>\n",
              "      <td>the entire movie is filled with deja vu moments .</td>\n",
              "      <td>2</td>\n",
              "      <td>neutral</td>\n",
              "    </tr>\n",
              "    <tr>\n",
              "      <th>4</th>\n",
              "      <td>this is a visually stunning rumination on love...</td>\n",
              "      <td>3</td>\n",
              "      <td>positive</td>\n",
              "    </tr>\n",
              "  </tbody>\n",
              "</table>\n",
              "</div>"
            ],
            "text/plain": [
              "                                                text  label     label_text\n",
              "0  a stirring , funny and finally transporting re...      4  very positive\n",
              "1  apparently reassembled from the cutting-room f...      1       negative\n",
              "2  they presume their audience wo n't sit still f...      1       negative\n",
              "3  the entire movie is filled with deja vu moments .      2        neutral\n",
              "4  this is a visually stunning rumination on love...      3       positive"
            ]
          },
          "execution_count": 6,
          "metadata": {},
          "output_type": "execute_result"
        }
      ],
      "source": [
        "df_train.head()"
      ]
    },
    {
      "cell_type": "markdown",
      "metadata": {
        "id": "424al0UQmJGc"
      },
      "source": [
        "# Xây dựng các hàm xử lý văn bản"
      ]
    },
    {
      "cell_type": "markdown",
      "metadata": {
        "id": "vvf7ayAymMTE"
      },
      "source": [
        "## Hàm loại bỏ ký tự đặc biệt và số"
      ]
    },
    {
      "cell_type": "code",
      "execution_count": 7,
      "metadata": {
        "id": "XEOd4Q6cmLl-"
      },
      "outputs": [],
      "source": [
        "def remove_special_characters(text):\n",
        "  #### YOUR CODE HERE ######\n",
        "  # Loại bỏ ký tự không phải chữ cái và số\n",
        "  text = re.sub(r'[^a-zA-Z0-9\\s]', '', text)\n",
        "  return text"
      ]
    },
    {
      "cell_type": "markdown",
      "metadata": {
        "id": "EB608VV5mVBh"
      },
      "source": [
        "## Hàm chuyển văn bản thành chữ thường"
      ]
    },
    {
      "cell_type": "code",
      "execution_count": 8,
      "metadata": {
        "id": "GJT5itxAlC2K"
      },
      "outputs": [],
      "source": [
        "def to_lower(text):\n",
        "    \n",
        "    text = text.lower()\n",
        "    return text"
      ]
    },
    {
      "cell_type": "markdown",
      "metadata": {
        "id": "imPlIqBamczN"
      },
      "source": [
        "## Hàm tách từ (Tokenization)"
      ]
    },
    {
      "cell_type": "code",
      "execution_count": 9,
      "metadata": {
        "id": "ZvjY6qkUme9a"
      },
      "outputs": [],
      "source": [
        "def tokenize(text):\n",
        "    #### YOUR CODE HERE ######\n",
        "    # Tách từ (tokenize)\n",
        "    tokens = word_tokenize(text)\n",
        "    return tokens\n"
      ]
    },
    {
      "cell_type": "markdown",
      "metadata": {
        "id": "8-6jW1AKmgzJ"
      },
      "source": [
        "## Hàm Stemming (Đưa từ về dạng gốc - Porter Stemmer)"
      ]
    },
    {
      "cell_type": "code",
      "execution_count": 10,
      "metadata": {
        "id": "ifzxEc7mmjSA"
      },
      "outputs": [
        {
          "name": "stdout",
          "output_type": "stream",
          "text": [
            "thi is a sampl sentence, with number like 123 and special charact like @#!.\n"
          ]
        }
      ],
      "source": [
        "ps = PorterStemmer()\n",
        "\n",
        "def stem_words(text):\n",
        "    # Stem các từ trong văn bản\n",
        "    stemmed_words = []\n",
        "    for word in text:\n",
        "        stemmed_words.append(ps.stem(word))\n",
        "    return ' '.join(stemmed_words)\n",
        "\n",
        "sample_text = \"This is a sample sentence, with numbers like 123 and special characters like @#!.\"\n",
        "print(stem_words(sample_text.split()))\n"
      ]
    },
    {
      "cell_type": "markdown",
      "metadata": {
        "id": "YfAjek3EmnLo"
      },
      "source": [
        "## Áp dụng các hàm xử lý văn bản"
      ]
    },
    {
      "cell_type": "code",
      "execution_count": 11,
      "metadata": {
        "id": "4MXPwMbUmm4Q"
      },
      "outputs": [
        {
          "name": "stdout",
          "output_type": "stream",
          "text": [
            "thi is a sampl sentenc with number like 123 and special charact like\n"
          ]
        }
      ],
      "source": [
        "def preprocess_text(text):\n",
        "    # Loại bỏ ký tự đặc biệt\n",
        "    text = remove_special_characters(text)\n",
        "    # Chuyển thành chữ thường\n",
        "    text = to_lower(text)\n",
        "    # Đưa từ về dạng gốc (có thể thay bằng lemmatize_words nếu bạn muốn dùng Lemmatization)\n",
        "    text = stem_words(text.split())\n",
        "    return text\n",
        "\n",
        "# Ví dụ áp dụng cho một đoạn văn bản\n",
        "sample_text = \"This is a sample sentence, with numbers like 123 and special characters like @#!.\"\n",
        "processed_text = preprocess_text(sample_text)\n",
        "print(processed_text)\n"
      ]
    },
    {
      "cell_type": "code",
      "execution_count": 25,
      "metadata": {
        "id": "Qa_Vx7dsmpJx"
      },
      "outputs": [
        {
          "name": "stdout",
          "output_type": "stream",
          "text": [
            "                                                text  \\\n",
            "0  a stirring , funny and finally transporting re...   \n",
            "1  apparently reassembled from the cutting-room f...   \n",
            "2  they presume their audience wo n't sit still f...   \n",
            "3  the entire movie is filled with deja vu moments .   \n",
            "4  this is a visually stunning rumination on love...   \n",
            "\n",
            "                                      processed_text  \n",
            "0  a stir funni and final transport reimagin of b...  \n",
            "1  appar reassembl from the cuttingroom floor of ...  \n",
            "2  they presum their audienc wo nt sit still for ...  \n",
            "3         the entir movi is fill with deja vu moment  \n",
            "4  thi is a visual stun rumin on love memori hist...  \n"
          ]
        }
      ],
      "source": [
        "# Xử lý văn bản cho 3 tập train- dev - test\n",
        "\n",
        "# Giả sử df là DataFrame của bạn và cột 'text' chứa dữ liệu văn bản\n",
        "df_train['processed_text'] = df_train['text'].apply(preprocess_text) #### YOUR CODE HERE\n",
        "df_test['processed_text'] =  df_test['text'].apply(preprocess_text) #### YOUR CODE HERE\n",
        "df_dev['processed_text'] =  df_dev['text'].apply(preprocess_text) #### YOUR CODE HERE\n",
        "\n",
        "print(df_train[['text', 'processed_text']].head())\n"
      ]
    },
    {
      "cell_type": "markdown",
      "metadata": {
        "id": "S_sq1O6Zq6h_"
      },
      "source": [
        "# Embedding Text\n",
        "Sử dụng phương pháp phù hợp sẽ giúp kết quả mô hình tăng hiệu quả\n"
      ]
    },
    {
      "cell_type": "code",
      "execution_count": 26,
      "metadata": {
        "id": "7jaBgaTaq5fU"
      },
      "outputs": [],
      "source": [
        "## Sử dụng các phương pháp để chuyển đổi text thành các vector\n",
        "#### YOUR CODE HERE\n",
        "from sklearn.feature_extraction.text import TfidfVectorizer\n",
        "\n",
        "# Create a TF-IDF vectorizer\n",
        "vectorizer = TfidfVectorizer(max_features=5000)  # You can adjust max_features\n",
        "vectorizer.fit(df_train['processed_text'])\n",
        "X_train = vectorizer.transform(df_train['processed_text']).toarray()\n",
        "X_dev = vectorizer.transform(df_dev['processed_text']).toarray()\n",
        "X_test = vectorizer.transform(df_test['processed_text']).toarray()"
      ]
    },
    {
      "cell_type": "markdown",
      "metadata": {
        "id": "xbj15uWcroFf"
      },
      "source": [
        "# Xây dựng mô hình\n"
      ]
    },
    {
      "cell_type": "markdown",
      "metadata": {
        "id": "mCNVI37drslv"
      },
      "source": [
        "## Chuẩn bị dữ liệu đầu vào"
      ]
    },
    {
      "cell_type": "code",
      "execution_count": 27,
      "metadata": {
        "id": "gw1IX48JrqOg"
      },
      "outputs": [],
      "source": [
        "# Chuyển đổi định dạng để phù hợp với input của CNN (thêm chiều thứ 3)\n",
        "X_train = X_train.reshape(X_train.shape[0], X_train.shape[1], 1)\n",
        "y_train = df_train['label'].values\n",
        "\n",
        "X_dev = X_dev.reshape(X_dev.shape[0], X_dev.shape[1], 1)\n",
        "y_dev = df_dev['label'].values\n",
        "\n",
        "X_test = X_test.reshape(X_test.shape[0], X_test.shape[1], 1)\n",
        "y_test = df_test['label'].values"
      ]
    },
    {
      "cell_type": "code",
      "execution_count": 28,
      "metadata": {
        "collapsed": true,
        "id": "IBMHANe-w0g-"
      },
      "outputs": [
        {
          "name": "stdout",
          "output_type": "stream",
          "text": [
            "(8544, 5000, 1)\n"
          ]
        }
      ],
      "source": [
        "print(X_train.shape)"
      ]
    },
    {
      "cell_type": "markdown",
      "metadata": {
        "id": "L6NDyHkUw7dn"
      },
      "source": [
        "## Xây dựng mô hình CNN\n",
        "Xây dựng kiến trúc mô hình CNN phù hợp để có thể sử dụng được cho bài toán phân loại đa nhãn\n",
        "\n",
        "Kiến trúc của mô hình yêu cầu theo các tầng layer sau: Embedding -> [Conv -> Pooling] -> Fully connected"
      ]
    },
    {
      "cell_type": "code",
      "execution_count": 29,
      "metadata": {
        "id": "l4jr_xR3w56Y"
      },
      "outputs": [
        {
          "name": "stderr",
          "output_type": "stream",
          "text": [
            "/home/giabao/.local/lib/python3.10/site-packages/keras/src/layers/convolutional/base_conv.py:107: UserWarning: Do not pass an `input_shape`/`input_dim` argument to a layer. When using Sequential models, prefer using an `Input(shape)` object as the first layer in the model instead.\n",
            "  super().__init__(activity_regularizer=activity_regularizer, **kwargs)\n"
          ]
        },
        {
          "data": {
            "text/html": [
              "<pre style=\"white-space:pre;overflow-x:auto;line-height:normal;font-family:Menlo,'DejaVu Sans Mono',consolas,'Courier New',monospace\"><span style=\"font-weight: bold\">Model: \"sequential_2\"</span>\n",
              "</pre>\n"
            ],
            "text/plain": [
              "\u001b[1mModel: \"sequential_2\"\u001b[0m\n"
            ]
          },
          "metadata": {},
          "output_type": "display_data"
        },
        {
          "data": {
            "text/html": [
              "<pre style=\"white-space:pre;overflow-x:auto;line-height:normal;font-family:Menlo,'DejaVu Sans Mono',consolas,'Courier New',monospace\">┏━━━━━━━━━━━━━━━━━━━━━━━━━━━━━━━━━┳━━━━━━━━━━━━━━━━━━━━━━━━┳━━━━━━━━━━━━━━━┓\n",
              "┃<span style=\"font-weight: bold\"> Layer (type)                    </span>┃<span style=\"font-weight: bold\"> Output Shape           </span>┃<span style=\"font-weight: bold\">       Param # </span>┃\n",
              "┡━━━━━━━━━━━━━━━━━━━━━━━━━━━━━━━━━╇━━━━━━━━━━━━━━━━━━━━━━━━╇━━━━━━━━━━━━━━━┩\n",
              "│ conv1d_2 (<span style=\"color: #0087ff; text-decoration-color: #0087ff\">Conv1D</span>)               │ (<span style=\"color: #00d7ff; text-decoration-color: #00d7ff\">None</span>, <span style=\"color: #00af00; text-decoration-color: #00af00\">4996</span>, <span style=\"color: #00af00; text-decoration-color: #00af00\">32</span>)       │           <span style=\"color: #00af00; text-decoration-color: #00af00\">192</span> │\n",
              "├─────────────────────────────────┼────────────────────────┼───────────────┤\n",
              "│ max_pooling1d_2 (<span style=\"color: #0087ff; text-decoration-color: #0087ff\">MaxPooling1D</span>)  │ (<span style=\"color: #00d7ff; text-decoration-color: #00d7ff\">None</span>, <span style=\"color: #00af00; text-decoration-color: #00af00\">2498</span>, <span style=\"color: #00af00; text-decoration-color: #00af00\">32</span>)       │             <span style=\"color: #00af00; text-decoration-color: #00af00\">0</span> │\n",
              "├─────────────────────────────────┼────────────────────────┼───────────────┤\n",
              "│ flatten_2 (<span style=\"color: #0087ff; text-decoration-color: #0087ff\">Flatten</span>)             │ (<span style=\"color: #00d7ff; text-decoration-color: #00d7ff\">None</span>, <span style=\"color: #00af00; text-decoration-color: #00af00\">79936</span>)          │             <span style=\"color: #00af00; text-decoration-color: #00af00\">0</span> │\n",
              "├─────────────────────────────────┼────────────────────────┼───────────────┤\n",
              "│ dense_4 (<span style=\"color: #0087ff; text-decoration-color: #0087ff\">Dense</span>)                 │ (<span style=\"color: #00d7ff; text-decoration-color: #00d7ff\">None</span>, <span style=\"color: #00af00; text-decoration-color: #00af00\">32</span>)             │     <span style=\"color: #00af00; text-decoration-color: #00af00\">2,557,984</span> │\n",
              "├─────────────────────────────────┼────────────────────────┼───────────────┤\n",
              "│ dropout_2 (<span style=\"color: #0087ff; text-decoration-color: #0087ff\">Dropout</span>)             │ (<span style=\"color: #00d7ff; text-decoration-color: #00d7ff\">None</span>, <span style=\"color: #00af00; text-decoration-color: #00af00\">32</span>)             │             <span style=\"color: #00af00; text-decoration-color: #00af00\">0</span> │\n",
              "├─────────────────────────────────┼────────────────────────┼───────────────┤\n",
              "│ dense_5 (<span style=\"color: #0087ff; text-decoration-color: #0087ff\">Dense</span>)                 │ (<span style=\"color: #00d7ff; text-decoration-color: #00d7ff\">None</span>, <span style=\"color: #00af00; text-decoration-color: #00af00\">5</span>)              │           <span style=\"color: #00af00; text-decoration-color: #00af00\">165</span> │\n",
              "└─────────────────────────────────┴────────────────────────┴───────────────┘\n",
              "</pre>\n"
            ],
            "text/plain": [
              "┏━━━━━━━━━━━━━━━━━━━━━━━━━━━━━━━━━┳━━━━━━━━━━━━━━━━━━━━━━━━┳━━━━━━━━━━━━━━━┓\n",
              "┃\u001b[1m \u001b[0m\u001b[1mLayer (type)                   \u001b[0m\u001b[1m \u001b[0m┃\u001b[1m \u001b[0m\u001b[1mOutput Shape          \u001b[0m\u001b[1m \u001b[0m┃\u001b[1m \u001b[0m\u001b[1m      Param #\u001b[0m\u001b[1m \u001b[0m┃\n",
              "┡━━━━━━━━━━━━━━━━━━━━━━━━━━━━━━━━━╇━━━━━━━━━━━━━━━━━━━━━━━━╇━━━━━━━━━━━━━━━┩\n",
              "│ conv1d_2 (\u001b[38;5;33mConv1D\u001b[0m)               │ (\u001b[38;5;45mNone\u001b[0m, \u001b[38;5;34m4996\u001b[0m, \u001b[38;5;34m32\u001b[0m)       │           \u001b[38;5;34m192\u001b[0m │\n",
              "├─────────────────────────────────┼────────────────────────┼───────────────┤\n",
              "│ max_pooling1d_2 (\u001b[38;5;33mMaxPooling1D\u001b[0m)  │ (\u001b[38;5;45mNone\u001b[0m, \u001b[38;5;34m2498\u001b[0m, \u001b[38;5;34m32\u001b[0m)       │             \u001b[38;5;34m0\u001b[0m │\n",
              "├─────────────────────────────────┼────────────────────────┼───────────────┤\n",
              "│ flatten_2 (\u001b[38;5;33mFlatten\u001b[0m)             │ (\u001b[38;5;45mNone\u001b[0m, \u001b[38;5;34m79936\u001b[0m)          │             \u001b[38;5;34m0\u001b[0m │\n",
              "├─────────────────────────────────┼────────────────────────┼───────────────┤\n",
              "│ dense_4 (\u001b[38;5;33mDense\u001b[0m)                 │ (\u001b[38;5;45mNone\u001b[0m, \u001b[38;5;34m32\u001b[0m)             │     \u001b[38;5;34m2,557,984\u001b[0m │\n",
              "├─────────────────────────────────┼────────────────────────┼───────────────┤\n",
              "│ dropout_2 (\u001b[38;5;33mDropout\u001b[0m)             │ (\u001b[38;5;45mNone\u001b[0m, \u001b[38;5;34m32\u001b[0m)             │             \u001b[38;5;34m0\u001b[0m │\n",
              "├─────────────────────────────────┼────────────────────────┼───────────────┤\n",
              "│ dense_5 (\u001b[38;5;33mDense\u001b[0m)                 │ (\u001b[38;5;45mNone\u001b[0m, \u001b[38;5;34m5\u001b[0m)              │           \u001b[38;5;34m165\u001b[0m │\n",
              "└─────────────────────────────────┴────────────────────────┴───────────────┘\n"
            ]
          },
          "metadata": {},
          "output_type": "display_data"
        },
        {
          "data": {
            "text/html": [
              "<pre style=\"white-space:pre;overflow-x:auto;line-height:normal;font-family:Menlo,'DejaVu Sans Mono',consolas,'Courier New',monospace\"><span style=\"font-weight: bold\"> Total params: </span><span style=\"color: #00af00; text-decoration-color: #00af00\">2,558,341</span> (9.76 MB)\n",
              "</pre>\n"
            ],
            "text/plain": [
              "\u001b[1m Total params: \u001b[0m\u001b[38;5;34m2,558,341\u001b[0m (9.76 MB)\n"
            ]
          },
          "metadata": {},
          "output_type": "display_data"
        },
        {
          "data": {
            "text/html": [
              "<pre style=\"white-space:pre;overflow-x:auto;line-height:normal;font-family:Menlo,'DejaVu Sans Mono',consolas,'Courier New',monospace\"><span style=\"font-weight: bold\"> Trainable params: </span><span style=\"color: #00af00; text-decoration-color: #00af00\">2,558,341</span> (9.76 MB)\n",
              "</pre>\n"
            ],
            "text/plain": [
              "\u001b[1m Trainable params: \u001b[0m\u001b[38;5;34m2,558,341\u001b[0m (9.76 MB)\n"
            ]
          },
          "metadata": {},
          "output_type": "display_data"
        },
        {
          "data": {
            "text/html": [
              "<pre style=\"white-space:pre;overflow-x:auto;line-height:normal;font-family:Menlo,'DejaVu Sans Mono',consolas,'Courier New',monospace\"><span style=\"font-weight: bold\"> Non-trainable params: </span><span style=\"color: #00af00; text-decoration-color: #00af00\">0</span> (0.00 B)\n",
              "</pre>\n"
            ],
            "text/plain": [
              "\u001b[1m Non-trainable params: \u001b[0m\u001b[38;5;34m0\u001b[0m (0.00 B)\n"
            ]
          },
          "metadata": {},
          "output_type": "display_data"
        }
      ],
      "source": [
        "\n",
        "from tensorflow.keras.models import Sequential\n",
        "from tensorflow.keras.layers import Embedding, Conv1D, MaxPooling1D, Flatten, Dense, Dropout\n",
        "model = Sequential()\n",
        "model.add(Conv1D(filters=32, kernel_size=5, activation='relu', input_shape=(X_train.shape[1], 1)))\n",
        "model.add(MaxPooling1D(pool_size=2))\n",
        "model.add(Flatten())\n",
        "model.add(Dense(32, activation='relu'))\n",
        "model.add(Dropout(0.5))\n",
        "model.add(Dense(5, activation='softmax'))\n",
        "model.compile(loss='sparse_categorical_crossentropy', optimizer='adam', metrics=['accuracy'])\n",
        "model.summary()\n"
      ]
    },
    {
      "cell_type": "markdown",
      "metadata": {
        "id": "QCj4cEEe0Gxm"
      },
      "source": [
        "# Huẩn luyện mô hình"
      ]
    },
    {
      "cell_type": "code",
      "execution_count": 30,
      "metadata": {
        "id": "1bJUHXFN0Jog"
      },
      "outputs": [
        {
          "name": "stdout",
          "output_type": "stream",
          "text": [
            "Epoch 1/10\n",
            "\u001b[1m267/267\u001b[0m \u001b[32m━━━━━━━━━━━━━━━━━━━━\u001b[0m\u001b[37m\u001b[0m \u001b[1m25s\u001b[0m 92ms/step - accuracy: 0.2737 - loss: 1.5645 - val_accuracy: 0.3706 - val_loss: 1.4221\n",
            "Epoch 2/10\n",
            "\u001b[1m267/267\u001b[0m \u001b[32m━━━━━━━━━━━━━━━━━━━━\u001b[0m\u001b[37m\u001b[0m \u001b[1m12s\u001b[0m 44ms/step - accuracy: 0.4433 - loss: 1.3208 - val_accuracy: 0.3896 - val_loss: 1.3729\n",
            "Epoch 3/10\n",
            "\u001b[1m267/267\u001b[0m \u001b[32m━━━━━━━━━━━━━━━━━━━━\u001b[0m\u001b[37m\u001b[0m \u001b[1m11s\u001b[0m 41ms/step - accuracy: 0.5323 - loss: 1.1323 - val_accuracy: 0.3787 - val_loss: 1.3794\n",
            "Epoch 4/10\n",
            "\u001b[1m267/267\u001b[0m \u001b[32m━━━━━━━━━━━━━━━━━━━━\u001b[0m\u001b[37m\u001b[0m \u001b[1m12s\u001b[0m 44ms/step - accuracy: 0.6042 - loss: 0.9827 - val_accuracy: 0.3797 - val_loss: 1.4592\n",
            "Epoch 5/10\n",
            "\u001b[1m267/267\u001b[0m \u001b[32m━━━━━━━━━━━━━━━━━━━━\u001b[0m\u001b[37m\u001b[0m \u001b[1m11s\u001b[0m 42ms/step - accuracy: 0.6548 - loss: 0.8600 - val_accuracy: 0.3806 - val_loss: 1.5257\n",
            "Epoch 6/10\n",
            "\u001b[1m267/267\u001b[0m \u001b[32m━━━━━━━━━━━━━━━━━━━━\u001b[0m\u001b[37m\u001b[0m \u001b[1m12s\u001b[0m 45ms/step - accuracy: 0.7054 - loss: 0.7494 - val_accuracy: 0.3624 - val_loss: 1.6441\n",
            "Epoch 7/10\n",
            "\u001b[1m267/267\u001b[0m \u001b[32m━━━━━━━━━━━━━━━━━━━━\u001b[0m\u001b[37m\u001b[0m \u001b[1m12s\u001b[0m 45ms/step - accuracy: 0.7217 - loss: 0.6808 - val_accuracy: 0.3660 - val_loss: 1.7335\n",
            "Epoch 8/10\n",
            "\u001b[1m267/267\u001b[0m \u001b[32m━━━━━━━━━━━━━━━━━━━━\u001b[0m\u001b[37m\u001b[0m \u001b[1m11s\u001b[0m 41ms/step - accuracy: 0.7616 - loss: 0.5928 - val_accuracy: 0.3633 - val_loss: 1.8306\n",
            "Epoch 9/10\n",
            "\u001b[1m267/267\u001b[0m \u001b[32m━━━━━━━━━━━━━━━━━━━━\u001b[0m\u001b[37m\u001b[0m \u001b[1m12s\u001b[0m 44ms/step - accuracy: 0.7789 - loss: 0.5480 - val_accuracy: 0.3624 - val_loss: 2.0393\n",
            "Epoch 10/10\n",
            "\u001b[1m267/267\u001b[0m \u001b[32m━━━━━━━━━━━━━━━━━━━━\u001b[0m\u001b[37m\u001b[0m \u001b[1m12s\u001b[0m 45ms/step - accuracy: 0.7914 - loss: 0.5231 - val_accuracy: 0.3669 - val_loss: 2.1583\n"
          ]
        }
      ],
      "source": [
        "\n",
        "history = model.fit(X_train, y_train, epochs=10, batch_size=32, validation_data=(X_dev, y_dev))"
      ]
    },
    {
      "cell_type": "markdown",
      "metadata": {
        "id": "dwLt074B4Ef9"
      },
      "source": [
        "# Đánh giá mô hình"
      ]
    },
    {
      "cell_type": "code",
      "execution_count": 31,
      "metadata": {
        "id": "vO4Us6q14BZL"
      },
      "outputs": [
        {
          "name": "stdout",
          "output_type": "stream",
          "text": [
            "\u001b[1m70/70\u001b[0m \u001b[32m━━━━━━━━━━━━━━━━━━━━\u001b[0m\u001b[37m\u001b[0m \u001b[1m0s\u001b[0m 811us/step\n",
            "Accuracy: 0.4095\n"
          ]
        },
        {
          "data": {
            "image/png": "[encoded data removed]",
            "text/plain": [
              "<Figure size 800x600 with 2 Axes>"
            ]
          },
          "metadata": {},
          "output_type": "display_data"
        }
      ],
      "source": [
        "\n",
        "from sklearn.metrics import accuracy_score, confusion_matrix\n",
        "import seaborn as sns\n",
        "import matplotlib.pyplot as plt\n",
        "\n",
        "y_pred = model.predict(X_test)\n",
        "y_pred_classes = np.argmax(y_pred, axis=1) \n",
        "accuracy = accuracy_score(y_test, y_pred_classes)\n",
        "print(f\"Accuracy: {accuracy:.4f}\")\n",
        "cm = confusion_matrix(y_test, y_pred_classes)\n",
        "plt.figure(figsize=(8, 6))\n",
        "sns.heatmap(cm, annot=True, fmt=\"d\", cmap=\"Oranges\",\n",
        "            xticklabels=['1', '2', '3', '4', '5'],\n",
        "            yticklabels=['1', '2', '3', '4', '5'])\n",
        "plt.title(\"Confusion Matrix\")\n",
        "plt.xlabel(\"Predicted Label\")\n",
        "plt.ylabel(\"True Label\")\n",
        "plt.show()\n",
        "\n",
        "\n"
      ]
    }
  ],
  "metadata": {
    "colab": {
      "provenance": []
    },
    "kernelspec": {
      "display_name": "Python 3",
      "name": "python3"
    },
    "language_info": {
      "codemirror_mode": {
        "name": "ipython",
        "version": 3
      },
      "file_extension": ".py",
      "mimetype": "text/x-python",
      "name": "python",
      "nbconvert_exporter": "python",
      "pygments_lexer": "ipython3",
      "version": "3.10.12"
    }
  },
  "nbformat": 4,
  "nbformat_minor": 0
}
